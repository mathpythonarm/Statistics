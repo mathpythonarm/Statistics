{
 "cells": [
  {
   "cell_type": "markdown",
   "id": "b1450405",
   "metadata": {},
   "source": [
    "## Poisson Distibution"
   ]
  },
  {
   "cell_type": "markdown",
   "id": "e1c09f34",
   "metadata": {},
   "source": [
    "The Poisson distribution is a probability distribution that is used to model the probability that a certain number of events occur during a fixed time interval when the events are known to occur independently and with a constant mean rate.\n",
    "\n",
    "If a random variable X follows a Poisson distribution, then the probability that X = k successes can be found by the following formula:\n",
    "\n",
    "P(X=k) = λ^k * e^(– λ)/ k!\n",
    "\n",
    "where:\n",
    "\n",
    "λ: mean number of successes that occur during a specific interval\n",
    "k: number of successes\n",
    "e: a constant equal to approximately 2.71828"
   ]
  },
  {
   "cell_type": "markdown",
   "id": "cb8a61bf",
   "metadata": {},
   "source": [
    "## How to generate a Poisson Distribution by given mean and size"
   ]
  },
  {
   "cell_type": "markdown",
   "id": "5134af88",
   "metadata": {},
   "source": [
    "poisson.rvs(mu, size) or poisson(mu).rvs(size)"
   ]
  },
  {
   "cell_type": "code",
   "execution_count": null,
   "id": "9d227fb0",
   "metadata": {},
   "outputs": [],
   "source": [
    "from scipy.stats import poisson \n",
    "#generate random values from Poisson distribution with mean=5 and sample size=10\n",
    "poisson(mu=5).rvs(10)"
   ]
  },
  {
   "cell_type": "code",
   "execution_count": null,
   "id": "9ba162a3",
   "metadata": {},
   "outputs": [],
   "source": [
    "from scipy.stats import poisson \n",
    "#generate random values from Poisson distribution with mean=15 and sample size=10\n",
    "poisson.rvs(mu= 15,size= 10)"
   ]
  },
  {
   "cell_type": "code",
   "execution_count": null,
   "id": "77a8f7ce",
   "metadata": {},
   "outputs": [],
   "source": [
    "from scipy.stats import poisson\n",
    "\n",
    "r= poisson.rvs(mu=3, size=10000)\n",
    "\n",
    "#lists to count items in numpy array and return dict.\n",
    "unique, counts = np.unique(r, return_counts=True)\n",
    "dict(zip(unique, counts))"
   ]
  },
  {
   "cell_type": "code",
   "execution_count": null,
   "id": "c0f7952a",
   "metadata": {},
   "outputs": [],
   "source": [
    "from scipy.stats import poisson\n",
    "import matplotlib.pyplot as plt\n",
    "\n",
    "x = poisson.rvs(mu=3, size=10000)\n",
    "\n",
    "#create plot of Poisson distribution\n",
    "plt.hist(x, density=True, color='blue', edgecolor='black')"
   ]
  },
  {
   "cell_type": "markdown",
   "id": "48ee336b",
   "metadata": {},
   "source": [
    "#  Probability Equal to Some Value\n",
    "Use this command: poisson.pmf(k, mu)\n",
    "\n",
    "probability mass function\n",
    "\n",
    "# Example:\n",
    "A store sells 3 apples per day on average. What is the probability that they will sell 5 apples on a given day? "
   ]
  },
  {
   "cell_type": "code",
   "execution_count": null,
   "id": "462c5569",
   "metadata": {},
   "outputs": [],
   "source": [
    "from scipy.stats import poisson\n",
    "\n",
    "poisson.pmf(k=5, mu=3)"
   ]
  },
  {
   "cell_type": "markdown",
   "id": "b96bd662",
   "metadata": {},
   "source": [
    "# Probability Less than Some Value\n",
    "\n",
    "Use this command: poisson.cdf(k, mu)\n",
    "\n",
    "cumulative distribution function"
   ]
  },
  {
   "cell_type": "markdown",
   "id": "0134450d",
   "metadata": {},
   "source": [
    "# Example:\n",
    "Number of Website Visitors per Hour\n",
    "Website hosting companies use the Poisson distribution to model the number of expected visitors per hour that websites will receive.\n",
    "\n",
    "For example, suppose a given website receives an average of 20 visitors per hour. We can use the Poisson distribution to find the probability that the website receives less than a certain number of visitors in a given hour:\n",
    "P(X <= 25 visitors) "
   ]
  },
  {
   "cell_type": "code",
   "execution_count": null,
   "id": "0dfdb4ed",
   "metadata": {},
   "outputs": [],
   "source": [
    "poisson.cdf(k=25, mu=20)"
   ]
  },
  {
   "cell_type": "markdown",
   "id": "ff7391b9",
   "metadata": {},
   "source": [
    "# Probability Greater than Some Value\n",
    "\n",
    "Use this command: 1-poisson.cdf(k, mu)\n",
    "\n"
   ]
  },
  {
   "cell_type": "markdown",
   "id": "9f8cae1b",
   "metadata": {},
   "source": [
    "A certain store sells 15 cans of tuna per day on average. What is the probability that this store sells more than 20 cans of tuna in a given day?"
   ]
  },
  {
   "cell_type": "code",
   "execution_count": null,
   "id": "4735bc81",
   "metadata": {},
   "outputs": [],
   "source": [
    "1-poisson.cdf(k=20, mu=15)"
   ]
  },
  {
   "cell_type": "markdown",
   "id": "b4f765ad",
   "metadata": {},
   "source": [
    "## Example1: Calls per Hour at a Call Center\n",
    "Call centers use the Poisson distribution to model the number of expected calls per hour that they’ll receive so they know how many call center reps to keep on staff.\n",
    "\n",
    "For example, suppose a given call center receives 10 calls per hour. We can use a Poisson distribution to find the probability that a call center receives 3 calls in a given hour:"
   ]
  },
  {
   "cell_type": "code",
   "execution_count": null,
   "id": "90c510f8",
   "metadata": {},
   "outputs": [],
   "source": [
    "from scipy.stats import poisson\n",
    "\n",
    "poisson.pmf(k=3 , mu= 10)"
   ]
  },
  {
   "cell_type": "markdown",
   "id": "0a7c8149",
   "metadata": {},
   "source": [
    "## Plot poisson distribution (pmf)"
   ]
  },
  {
   "cell_type": "code",
   "execution_count": 1,
   "id": "c2dce214",
   "metadata": {},
   "outputs": [],
   "source": [
    "import numpy as np\n",
    "import matplotlib.pyplot as plt\n",
    "from scipy.stats import poisson"
   ]
  },
  {
   "cell_type": "code",
   "execution_count": 2,
   "id": "a0bb72dd",
   "metadata": {},
   "outputs": [
    {
     "name": "stdout",
     "output_type": "stream",
     "text": [
      "[ 0  1  2  3  4  5  6  7  8  9 10 11 12 13 14 15 16]\n"
     ]
    }
   ],
   "source": [
    "k = np.arange(0, 17)\n",
    "print(k)"
   ]
  },
  {
   "cell_type": "code",
   "execution_count": 24,
   "id": "3c0619fb",
   "metadata": {},
   "outputs": [
    {
     "name": "stdout",
     "output_type": "stream",
     "text": [
      "[0.0009 0.0064 0.0223 0.0521 0.0912 0.1277 0.149  0.149  0.1304 0.1014\n",
      " 0.071  0.0452 0.0263 0.0142 0.0071 0.0033 0.0014]\n"
     ]
    }
   ],
   "source": [
    "pmf = poisson.pmf(k, mu=7)\n",
    "pmf = np.round(pmf, 4)\n",
    "\n",
    "print(pmf)"
   ]
  },
  {
   "cell_type": "code",
   "execution_count": 35,
   "id": "a53fb780",
   "metadata": {},
   "outputs": [
    {
     "data": {
      "text/plain": [
       "{0: 0.0009,\n",
       " 1: 0.0064,\n",
       " 2: 0.0223,\n",
       " 3: 0.0521,\n",
       " 4: 0.0912,\n",
       " 5: 0.1277,\n",
       " 6: 0.149,\n",
       " 7: 0.149,\n",
       " 8: 0.1304,\n",
       " 9: 0.1014,\n",
       " 10: 0.071,\n",
       " 11: 0.0452,\n",
       " 12: 0.0263,\n",
       " 13: 0.0142,\n",
       " 14: 0.0071,\n",
       " 15: 0.0033,\n",
       " 16: 0.0014}"
      ]
     },
     "execution_count": 35,
     "metadata": {},
     "output_type": "execute_result"
    }
   ],
   "source": [
    "Data = dict( zip(k, pmf))\n",
    "Data"
   ]
  },
  {
   "cell_type": "code",
   "execution_count": 39,
   "id": "bb3e9f17",
   "metadata": {},
   "outputs": [
    {
     "name": "stdout",
     "output_type": "stream",
     "text": [
      "k-value 0 has probability = 0.0009\n",
      "k-value 1 has probability = 0.0064\n",
      "k-value 2 has probability = 0.0223\n",
      "k-value 3 has probability = 0.0521\n",
      "k-value 4 has probability = 0.0912\n",
      "k-value 5 has probability = 0.1277\n",
      "k-value 6 has probability = 0.149\n",
      "k-value 7 has probability = 0.149\n",
      "k-value 8 has probability = 0.1304\n",
      "k-value 9 has probability = 0.1014\n",
      "k-value 10 has probability = 0.071\n",
      "k-value 11 has probability = 0.0452\n",
      "k-value 12 has probability = 0.0263\n",
      "k-value 13 has probability = 0.0142\n",
      "k-value 14 has probability = 0.0071\n",
      "k-value 15 has probability = 0.0033\n",
      "k-value 16 has probability = 0.0014\n"
     ]
    }
   ],
   "source": [
    "for val, prob in Data.items():\n",
    "    print(f\"k-value {val} has probability = {prob}\")"
   ]
  },
  {
   "cell_type": "code",
   "execution_count": 64,
   "id": "8383d452",
   "metadata": {},
   "outputs": [
    {
     "data": {
      "image/png": "[encoded data removed]",
      "text/plain": [
       "<Figure size 432x288 with 1 Axes>"
      ]
     },
     "metadata": {
      "needs_background": "light"
     },
     "output_type": "display_data"
    }
   ],
   "source": [
    "plt.plot(k, pmf, marker='o', color='red')\n",
    "plt.xlabel('k')\n",
    "plt.ylabel('Probability')\n",
    "\n",
    "plt.show()"
   ]
  },
  {
   "cell_type": "markdown",
   "id": "d1cc06d6",
   "metadata": {},
   "source": [
    "## Plot cumulative poisson distribution function (cdf)"
   ]
  },
  {
   "cell_type": "code",
   "execution_count": 57,
   "id": "2a25e2d0",
   "metadata": {},
   "outputs": [
    {
     "data": {
      "text/plain": [
       "array([9.11881966e-04, 7.29505572e-03, 2.96361639e-02, 8.17654162e-02,\n",
       "       1.72991608e-01, 3.00708276e-01, 4.49711056e-01, 5.98713836e-01,\n",
       "       7.29091268e-01, 8.30495937e-01, 9.01479206e-01, 9.46650377e-01,\n",
       "       9.73000227e-01, 9.87188607e-01, 9.94282798e-01, 9.97593420e-01,\n",
       "       9.99041817e-01])"
      ]
     },
     "execution_count": 57,
     "metadata": {},
     "output_type": "execute_result"
    }
   ],
   "source": [
    "cdf= poisson.cdf(k, mu=7)\n",
    "cdf"
   ]
  },
  {
   "cell_type": "code",
   "execution_count": 73,
   "id": "80ff042b",
   "metadata": {
    "scrolled": true
   },
   "outputs": [
    {
     "data": {
      "image/png": "[encoded data removed]",
      "text/plain": [
       "<Figure size 432x288 with 1 Axes>"
      ]
     },
     "metadata": {
      "needs_background": "light"
     },
     "output_type": "display_data"
    }
   ],
   "source": [
    "plt.plot(k, cdf)\n",
    "plt.xlabel('k')\n",
    "plt.ylabel('Cumulative Probability')\n",
    "\n",
    "plt.show()"
   ]
  },
  {
   "cell_type": "code",
   "execution_count": 74,
   "id": "e2340ef5",
   "metadata": {},
   "outputs": [
    {
     "data": {
      "image/png": "[encoded data removed]",
      "text/plain": [
       "<Figure size 432x288 with 1 Axes>"
      ]
     },
     "metadata": {
      "needs_background": "light"
     },
     "output_type": "display_data"
    }
   ],
   "source": [
    "plt.plot(k, cdf, marker='o')\n",
    "plt.xlabel('k')\n",
    "plt.ylabel('Cumulative Probability')\n",
    "\n",
    "plt.show()"
   ]
  }
 ],
 "metadata": {
  "kernelspec": {
   "display_name": "Python 3 (ipykernel)",
   "language": "python",
   "name": "python3"
  },
  "language_info": {
   "codemirror_mode": {
    "name": "ipython",
    "version": 3
   },
   "file_extension": ".py",
   "mimetype": "text/x-python",
   "name": "python",
   "nbconvert_exporter": "python",
   "pygments_lexer": "ipython3",
   "version": "3.10.9"
  },
  "vscode": {
   "interpreter": {
    "hash": "a0a2813c8478eba0035cfb173bcab9b8557004300f49cc0f5e0b882cc6f175be"
   }
  }
 },
 "nbformat": 4,
 "nbformat_minor": 5
}
