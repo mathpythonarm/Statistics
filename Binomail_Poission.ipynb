{
 "cells": [
  {
   "cell_type": "markdown",
   "metadata": {},
   "source": [
    "$Binomial$ $C(n,k) p^k (1-p)^{n-k}$"
   ]
  },
  {
   "cell_type": "code",
   "execution_count": 2,
   "metadata": {},
   "outputs": [],
   "source": [
    "from math import comb\n",
    "\n",
    "p = 1/6 # winnig probability\n",
    "\n",
    "n = 10\n",
    "k = 0\n",
    "\n",
    "binomial = comb(n,k)*(p**k)*((1-p)**(n-k))"
   ]
  },
  {
   "cell_type": "markdown",
   "metadata": {},
   "source": [
    "$Poisson$ $e^{- \\lambda} \\frac{\\lambda^k}{k!}$"
   ]
  },
  {
   "cell_type": "code",
   "execution_count": 3,
   "metadata": {},
   "outputs": [
    {
     "data": {
      "text/plain": [
       "0.6065306597126334"
      ]
     },
     "execution_count": 3,
     "metadata": {},
     "output_type": "execute_result"
    }
   ],
   "source": [
    "import math\n",
    "lamda = 0.5\n",
    "e= math.e\n",
    "\n",
    "poisson = (e**(-lamda))*(lamda**k)/(math.factorial(k))\n",
    "poisson"
   ]
  },
  {
   "cell_type": "code",
   "execution_count": 4,
   "metadata": {},
   "outputs": [
    {
     "data": {
      "text/plain": [
       "-0.44502507682278764"
      ]
     },
     "execution_count": 4,
     "metadata": {},
     "output_type": "execute_result"
    }
   ],
   "source": [
    "binomial - poisson"
   ]
  },
  {
   "attachments": {},
   "cell_type": "markdown",
   "metadata": {},
   "source": [
    "$\\textit{A book of 200 pages contains 100 misprints. Find the probability that a given page contains at least 2 misprints.}$\n"
   ]
  },
  {
   "attachments": {},
   "cell_type": "markdown",
   "metadata": {},
   "source": [
    "$\\text{We have  lamdba = 100/200=0.5,n =200.\n",
    "Calculate probability of zero misprint and one misprint}$"
   ]
  },
  {
   "cell_type": "code",
   "execution_count": 8,
   "metadata": {},
   "outputs": [
    {
     "data": {
      "text/plain": [
       "0.6065306597126334"
      ]
     },
     "execution_count": 8,
     "metadata": {},
     "output_type": "execute_result"
    }
   ],
   "source": [
    "import math\n",
    "n = 200\n",
    "lamda = 0.5\n",
    "k= 0 \n",
    "e= math.e\n",
    "\n",
    "poisson = (e**(-lamda))*(lamda**k)/(math.factorial(k))\n",
    "poisson"
   ]
  },
  {
   "cell_type": "code",
   "execution_count": 9,
   "metadata": {},
   "outputs": [
    {
     "data": {
      "text/plain": [
       "0.3032653298563167"
      ]
     },
     "execution_count": 9,
     "metadata": {},
     "output_type": "execute_result"
    }
   ],
   "source": [
    "import math\n",
    "n = 200\n",
    "lamda = 0.5\n",
    "k= 1 \n",
    "e= math.e\n",
    "\n",
    "poisson = (e**(-lamda))*(lamda**k)/(math.factorial(k))\n",
    "poisson"
   ]
  },
  {
   "cell_type": "code",
   "execution_count": 10,
   "metadata": {},
   "outputs": [
    {
     "name": "stdout",
     "output_type": "stream",
     "text": [
      "Probability for at least k=1 misprints is = 0.09020401043104986\n"
     ]
    }
   ],
   "source": [
    "import math\n",
    "n = 200\n",
    "lamda = 0.5\n",
    "e= math.e\n",
    "\n",
    "sum = 0\n",
    "for k in range(0, 2):\n",
    "    sum += (e**(-lamda))*(lamda**k)/(math.factorial(k))\n",
    "print(f'Probability for at least k={k} misprints is = {1- sum}')"
   ]
  }
 ],
 "metadata": {
  "kernelspec": {
   "display_name": "Python 3",
   "language": "python",
   "name": "python3"
  },
  "language_info": {
   "codemirror_mode": {
    "name": "ipython",
    "version": 3
   },
   "file_extension": ".py",
   "mimetype": "text/x-python",
   "name": "python",
   "nbconvert_exporter": "python",
   "pygments_lexer": "ipython3",
   "version": "3.10.9"
  },
  "orig_nbformat": 4,
  "vscode": {
   "interpreter": {
    "hash": "a0a2813c8478eba0035cfb173bcab9b8557004300f49cc0f5e0b882cc6f175be"
   }
  }
 },
 "nbformat": 4,
 "nbformat_minor": 2
}
